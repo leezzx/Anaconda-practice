{
 "cells": [
  {
   "cell_type": "code",
   "execution_count": 5,
   "id": "inclusive-strip",
   "metadata": {},
   "outputs": [
    {
     "data": {
      "text/plain": [
       "array([0.2       ,        nan, 0.33333333, 0.        , 0.5       ,\n",
       "       0.        , 0.        , 0.        , 0.        , 0.        ,\n",
       "       0.        , 0.5       , 0.5       , 0.        , 0.        ])"
      ]
     },
     "execution_count": 5,
     "metadata": {},
     "output_type": "execute_result"
    }
   ],
   "source": [
    "import os\n",
    "import csv\n",
    "import re\n",
    "import numpy as np\n",
    "import pandas as pd\n",
    "from math import log\n",
    "import warnings\n",
    "warnings.filterwarnings(\"ignore\")\n",
    "\n",
    "from konlpy.tag import Hannanum\n",
    "hn = Hannanum()\n",
    "\n",
    "\n",
    "os.getcwd()\n",
    "\n",
    "os.chdir('C:\\\\Users\\\\Leessx\\\\Desktop\\\\leezzx\\\\학교과제\\텍스트마이닝')\n",
    "\n",
    "\n",
    "#remove carriage return\n",
    "def cleancr(dic):\n",
    "    line = []\n",
    "    for i in range(len(dic)):\n",
    "        line.append(re.sub(\"\\s\", \"\", dic[i]))\n",
    "    return line\n",
    "\n",
    "\n",
    "#count matches\n",
    "def matches(dic, d):\n",
    "    return d.count(dic)\n",
    "\n",
    "\n",
    "#긍부정어 사전 로딩\n",
    "f = open(\"positive.txt\", 'r', encoding='UTF8')\n",
    "positive = f.readlines()\n",
    "f.close()\n",
    "positive = cleancr(positive)\n",
    "\n",
    "f = open(\"negative.txt\", 'r', encoding='UTF8')\n",
    "negative = f.readlines()\n",
    "f.close()\n",
    "negative = cleancr(negative)\n",
    "\n",
    "\n",
    "#데이터 로딩\n",
    "\n",
    "f = open(\"삼성전자 주식 종목토론 방 15개 문서.txt\", 'r', encoding='UTF8')\n",
    "docs = f.read()\n",
    "f.close()\n",
    "\n",
    "sdocs = docs.split(\",\")\n",
    "\n",
    "\n",
    "#사전비교\n",
    "N = len(sdocs)\n",
    "\n",
    "res = np.zeros(shape=(N, 2), dtype = np.int8)\n",
    "for i in range(N): #문서별로 수행\n",
    "    d = sdocs[i]\n",
    "    cnt = 0\n",
    "    for j in range(len(positive)):\n",
    "        dic = positive[j]        \n",
    "        cnt += matches(dic, d)\n",
    "    res[i, 0] = cnt\n",
    "\n",
    "for i in range(N): #문서별로 수행\n",
    "    d = sdocs[i]\n",
    "    cnt = 0\n",
    "    for j in range(len(negative)):\n",
    "        dic = negative[j]        \n",
    "        cnt += matches(dic, d)\n",
    "    res[i, 1] = cnt\n",
    "\n",
    "\n",
    "res\n",
    "\n",
    "\n",
    "#긍정률 계산\n",
    "\n",
    "pos_rate = res[:, 0] / (res[:, 0] + res[:, 1])\n",
    "pos_rate"
   ]
  },
  {
   "cell_type": "code",
   "execution_count": null,
   "id": "passing-amplifier",
   "metadata": {},
   "outputs": [],
   "source": []
  }
 ],
 "metadata": {
  "kernelspec": {
   "display_name": "Python 3",
   "language": "python",
   "name": "python3"
  },
  "language_info": {
   "codemirror_mode": {
    "name": "ipython",
    "version": 3
   },
   "file_extension": ".py",
   "mimetype": "text/x-python",
   "name": "python",
   "nbconvert_exporter": "python",
   "pygments_lexer": "ipython3",
   "version": "3.7.10"
  }
 },
 "nbformat": 4,
 "nbformat_minor": 5
}
