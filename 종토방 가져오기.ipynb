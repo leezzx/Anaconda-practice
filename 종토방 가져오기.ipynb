{
 "cells": [
  {
   "cell_type": "code",
   "execution_count": 1,
   "id": "missing-brave",
   "metadata": {},
   "outputs": [],
   "source": [
    "import requests\n",
    "from bs4 import BeautifulSoup\n",
    "import os\n",
    "\n",
    "# p ~ numpage 페이지 불러오기\n",
    "def crwaling(p, numpage):\n",
    "    b = []\n",
    "    for i in range(p, numpage + 1):\n",
    "        url = \"https://finance.naver.com/item/board.nhn?code=019170&page=%s\"%i\n",
    "        html = requests.get(url, headers = {'User-agent' : 'Mozilla/5.0'}).text\n",
    "        soup = BeautifulSoup(html, 'html.parser')\n",
    "        a = soup.find_all('td',{'class':'title'})\n",
    "        for i in a:\n",
    "            b.append(i.find('a')['title'])\n",
    "    return(b)\n",
    "\n",
    "# '|' 기호로 구분\n",
    "신풍제약 = '|'.join(crwaling(16814, 16845))\n",
    "\n",
    "# 불필요한 기호 제거 전처리\n",
    "filtered_신풍제약 = 신풍제약.replace('.', '').replace(',', '').replace(\"'\",\"\").replace('=', '').replace('\\n', '').replace('?', '').replace('!', '').replace('(', '').replace(')', '')\n",
    "\n",
    "# txt파일로 저장\n",
    "os.getcwd()\n",
    "os.chdir('C:\\\\Users\\\\Leessx\\\\Desktop\\\\종토방')\n",
    "\n",
    "f = open('2020.09.16_15시~익일09시.txt', 'w', encoding='UTF8')\n",
    "f.write(filtered_신풍제약)\n",
    "f.close()"
   ]
  },
  {
   "cell_type": "code",
   "execution_count": null,
   "id": "answering-attraction",
   "metadata": {},
   "outputs": [],
   "source": []
  }
 ],
 "metadata": {
  "kernelspec": {
   "display_name": "Python 3",
   "language": "python",
   "name": "python3"
  },
  "language_info": {
   "codemirror_mode": {
    "name": "ipython",
    "version": 3
   },
   "file_extension": ".py",
   "mimetype": "text/x-python",
   "name": "python",
   "nbconvert_exporter": "python",
   "pygments_lexer": "ipython3",
   "version": "3.7.10"
  }
 },
 "nbformat": 4,
 "nbformat_minor": 5
}
